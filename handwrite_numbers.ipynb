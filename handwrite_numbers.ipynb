{
  "nbformat": 4,
  "nbformat_minor": 0,
  "metadata": {
    "colab": {
      "provenance": [],
      "authorship_tag": "ABX9TyOkM9RAx4llWRLzDErBYHMb",
      "include_colab_link": true
    },
    "kernelspec": {
      "name": "python3",
      "display_name": "Python 3"
    },
    "language_info": {
      "name": "python"
    }
  },
  "cells": [
    {
      "cell_type": "markdown",
      "metadata": {
        "id": "view-in-github",
        "colab_type": "text"
      },
      "source": [
        "<a href=\"https://colab.research.google.com/github/MoLo404Ko/python_writehand_numbers/blob/main/handwrite_numbers.ipynb\" target=\"_parent\"><img src=\"https://colab.research.google.com/assets/colab-badge.svg\" alt=\"Open In Colab\"/></a>"
      ]
    },
    {
      "cell_type": "code",
      "execution_count": 5,
      "metadata": {
        "id": "AhyHsRbNkFkW"
      },
      "outputs": [],
      "source": [
        "#ЗАДАЧА: РАСПОЗНАВАТЬ РУКОПИСНЫЕ ЦИФРЫ 28x28 РАЗМЕРОМ В ЧБ ФОРМАТЕ\n",
        "#ДЛЯ РАСПОЗНАВАНИЯ ХОРОШО ПОДХОДЯТ СВЕРТОЧНЫЕ СЕТИ, НО Т.К. О НИХ Я ЕЩЕ НЕ ЗНАЮ,\n",
        "#ТО БУДУ ИСПОЛЬЗОВАТЬ ПОЛНОСВЯЗНУЮ\n",
        "\n",
        "#НС БУДЕТ ИМЕНТЬ 784 ВХОДА (28*28), 128 НЕЙРОНОВ СКРЫТОГО СЛОЯ И 10 ВЫХОДОВ\n",
        "#ДЛЯ СКРЫТОГО СЛОЯ ИСПОЛЬЗУЕМ RELU, А ДЛЯ ВЫХОДНОГО softmax, т.к. БУДЕМ ПРЕД-\n",
        "#СТАВЛЯТЬ РЕЗУЛЬТАТ В ВИДЕ ИНТЕРПРЕТАЦИИ ВЕРОЯТНОСТИ,Т.Е. ЧИСЛОМ\n",
        "\n",
        "#КОЛИЧЕСТВО СЛОЕВ И НЕЙРОНОВ В НИХ ВЫБИРАЮТСЯ ЭМПИРИЧЕСКИМ ПУТЕМ\n",
        "import numpy as np\n",
        "import matplotlib.pyplot as plt\n",
        "from tensorflow.keras.datasets import mnist\n",
        "from tensorflow import keras\n",
        "from tensorflow.keras.layers import Dense, Flatten"
      ]
    },
    {
      "cell_type": "markdown",
      "source": [
        "Загрузка обучающей и эталонной выборок"
      ],
      "metadata": {
        "id": "krQWNNYZnotI"
      }
    },
    {
      "cell_type": "code",
      "source": [
        "#mnist - датасет из рукописных цифр\n",
        "(x_train, y_train), (x_test, y_test) = mnist.load_data()"
      ],
      "metadata": {
        "id": "QcWnlDjsnsOo",
        "colab": {
          "base_uri": "https://localhost:8080/"
        },
        "outputId": "28b57a67-2f42-4e0f-d5fc-f73358d6b958"
      },
      "execution_count": 6,
      "outputs": [
        {
          "output_type": "stream",
          "name": "stdout",
          "text": [
            "Downloading data from https://storage.googleapis.com/tensorflow/tf-keras-datasets/mnist.npz\n",
            "11490434/11490434 [==============================] - 1s 0us/step\n"
          ]
        }
      ]
    },
    {
      "cell_type": "markdown",
      "source": [
        "Нормализация входных данных"
      ],
      "metadata": {
        "id": "5uRYVzTrn2Tn"
      }
    },
    {
      "cell_type": "code",
      "source": [
        "#Для того чтобы данные находились в диапазоне от 0 до 1, мы их стандатизируем\n",
        "#Списки содержат матрицы, числа в которых от 0 до 255 в градации серого, т.е.,\n",
        "#нам нужно их разделить на максимум, чтобы числа входили в диапазон\n",
        "x_train = x_train / 255\n",
        "x_test = x_test / 255\n",
        "\n",
        "#Далее необходимо привести выходные данные в нужный формат, т.к. у нас 10 выходов,\n",
        "#то мы должны получать массив из 10 элементов, где каждый элемент под определенным\n",
        "#индексом обозначает нужное число.\n",
        "#to_categorical - приводит в нужный формат, где 10 - длина вектора\n",
        "y_train_cat = keras.utils.to_categorical(y_train, 10)\n",
        "y_test_cat = keras.utils.to_categorical(y_test, 10)"
      ],
      "metadata": {
        "id": "yAUZVinop0Bi"
      },
      "execution_count": 7,
      "outputs": []
    },
    {
      "cell_type": "markdown",
      "source": [
        "Формируем модель НС"
      ],
      "metadata": {
        "id": "s8z1faken_T3"
      }
    },
    {
      "cell_type": "code",
      "source": [
        "model = keras.Sequential(\n",
        "    [\n",
        "        #Входной слой размером 784 с 1 байтом под ЧБ формат (0-255)\n",
        "        #Преобразуем матрицу 28x28\n",
        "        Flatten(input_shape=(28,28,1)),\n",
        "        #Создаем 128 нейронов в скрытом слое\n",
        "        Dense(128, activation=\"relu\"),\n",
        "        #Создаем 10 нейронов для выходного слоя\n",
        "        Dense(10, activation=\"softmax\")\n",
        "    ]\n",
        ")\n",
        "#Выводит информацию о модели, где Param - количество связей между нейронами\n",
        "print(model.summary())"
      ],
      "metadata": {
        "id": "xh9AG9cAoDu_",
        "colab": {
          "base_uri": "https://localhost:8080/"
        },
        "outputId": "5e8c4311-e681-41f3-dc2a-adc10c2d3350"
      },
      "execution_count": 8,
      "outputs": [
        {
          "output_type": "stream",
          "name": "stdout",
          "text": [
            "Model: \"sequential\"\n",
            "_________________________________________________________________\n",
            " Layer (type)                Output Shape              Param #   \n",
            "=================================================================\n",
            " flatten (Flatten)           (None, 784)               0         \n",
            "                                                                 \n",
            " dense (Dense)               (None, 128)               100480    \n",
            "                                                                 \n",
            " dense_1 (Dense)             (None, 10)                1290      \n",
            "                                                                 \n",
            "=================================================================\n",
            "Total params: 101770 (397.54 KB)\n",
            "Trainable params: 101770 (397.54 KB)\n",
            "Non-trainable params: 0 (0.00 Byte)\n",
            "_________________________________________________________________\n",
            "None\n"
          ]
        }
      ]
    },
    {
      "cell_type": "markdown",
      "source": [
        "Компилируем модель с оценочной функцией и оптимизатором"
      ],
      "metadata": {
        "id": "LWTWERHdn-q7"
      }
    },
    {
      "cell_type": "code",
      "source": [
        "#metrics - метрика, в которой получаем результат, accuracy - показывает резуль-\n",
        "#тат в виде того, как часто происходит совпадение с критерием оценки в %\n",
        "model.compile(\n",
        "    optimizer=\"adam\",\n",
        "    loss=\"categorical_crossentropy\",\n",
        "    metrics=[\"accuracy\"]\n",
        ")"
      ],
      "metadata": {
        "id": "t1SZZha3bS7o"
      },
      "execution_count": 11,
      "outputs": []
    },
    {
      "cell_type": "markdown",
      "source": [
        "Запуск обучения модели"
      ],
      "metadata": {
        "id": "hi8gA0ajcohW"
      }
    },
    {
      "cell_type": "code",
      "source": [
        "#validation_split -  разбивает выборку в соотношении 80% к 20% на обучающую и\n",
        "#эталонную выборки соответственно\n",
        "model.fit(x_train, y_train_cat, batch_size=40, epochs=5, validation_split=0.2)"
      ],
      "metadata": {
        "colab": {
          "base_uri": "https://localhost:8080/"
        },
        "id": "_06M5cUqcq3M",
        "outputId": "8866898c-7a58-4af2-b7d1-75c7640366cb"
      },
      "execution_count": 12,
      "outputs": [
        {
          "output_type": "stream",
          "name": "stdout",
          "text": [
            "Epoch 1/5\n",
            "1200/1200 [==============================] - 6s 4ms/step - loss: 0.2957 - accuracy: 0.9154 - val_loss: 0.1574 - val_accuracy: 0.9550\n",
            "Epoch 2/5\n",
            "1200/1200 [==============================] - 6s 5ms/step - loss: 0.1300 - accuracy: 0.9622 - val_loss: 0.1256 - val_accuracy: 0.9636\n",
            "Epoch 3/5\n",
            "1200/1200 [==============================] - 5s 5ms/step - loss: 0.0904 - accuracy: 0.9734 - val_loss: 0.0981 - val_accuracy: 0.9714\n",
            "Epoch 4/5\n",
            "1200/1200 [==============================] - 5s 4ms/step - loss: 0.0672 - accuracy: 0.9810 - val_loss: 0.0951 - val_accuracy: 0.9714\n",
            "Epoch 5/5\n",
            "1200/1200 [==============================] - 6s 5ms/step - loss: 0.0527 - accuracy: 0.9841 - val_loss: 0.0915 - val_accuracy: 0.9726\n"
          ]
        },
        {
          "output_type": "execute_result",
          "data": {
            "text/plain": [
              "<keras.src.callbacks.History at 0x7ce25ce79b10>"
            ]
          },
          "metadata": {},
          "execution_count": 12
        }
      ]
    },
    {
      "cell_type": "markdown",
      "source": [
        "Работа НС на эталонной выборке"
      ],
      "metadata": {
        "id": "AF_-b7htdQ-c"
      }
    },
    {
      "cell_type": "code",
      "source": [
        "model.evaluate(x_test, y_test_cat)"
      ],
      "metadata": {
        "colab": {
          "base_uri": "https://localhost:8080/"
        },
        "id": "9e4DYnXUdaAx",
        "outputId": "89c1891e-62b9-45b7-8bb1-85d635e9d41c"
      },
      "execution_count": 13,
      "outputs": [
        {
          "output_type": "stream",
          "name": "stdout",
          "text": [
            "313/313 [==============================] - 1s 2ms/step - loss: 0.0859 - accuracy: 0.9735\n"
          ]
        },
        {
          "output_type": "execute_result",
          "data": {
            "text/plain": [
              "[0.0859198272228241, 0.9735000133514404]"
            ]
          },
          "metadata": {},
          "execution_count": 13
        }
      ]
    },
    {
      "cell_type": "markdown",
      "source": [
        "Проверка распознавания цифр"
      ],
      "metadata": {
        "id": "LTHSU8BqdzIu"
      }
    },
    {
      "cell_type": "code",
      "source": [
        "n = 2\n",
        "#expand_dims - расширяет форму входного массива\n",
        "x = np.expand_dims(x_test[n], axis=0)\n",
        "res = model.predict(x)\n",
        "print(res)\n",
        "#argmax - бер индекс максимального значения\n",
        "print(f\"Распознанная цифра: {np.argmax(res)}\")\n",
        "\n",
        "#cmap - цвтовая карта, в которой выводится изображение, мы берем бинрную,\n",
        "#т.е. белый-черный\n",
        "plt.imshow(x_test[n], cmap=plt.cm.binary)\n",
        "plt.show()"
      ],
      "metadata": {
        "colab": {
          "base_uri": "https://localhost:8080/",
          "height": 499
        },
        "id": "X-7Bii5Qd10e",
        "outputId": "4151dc18-c74d-4139-dd17-516cef8513c7"
      },
      "execution_count": 27,
      "outputs": [
        {
          "output_type": "stream",
          "name": "stdout",
          "text": [
            "1/1 [==============================] - 0s 101ms/step\n",
            "[[4.8634770e-06 9.9859053e-01 1.7650989e-04 2.9174880e-05 1.8005365e-05\n",
            "  1.0821011e-05 2.5361694e-05 8.9232693e-04 2.5105468e-04 1.2871847e-06]]\n",
            "Распознанная цифра: 1\n"
          ]
        },
        {
          "output_type": "display_data",
          "data": {
            "text/plain": [
              "<Figure size 640x480 with 1 Axes>"
            ],
            "image/png": "[encoded data removed]"
          },
          "metadata": {}
        }
      ]
    },
    {
      "cell_type": "markdown",
      "source": [
        "Распознавание всей тестовой выборки"
      ],
      "metadata": {
        "id": "1S32RAnJhv0o"
      }
    },
    {
      "cell_type": "code",
      "source": [
        "pred = model.predict(x_test)\n",
        "#axis=1 - ось x\n",
        "pred = np.argmax(pred, axis=1)\n",
        "print(pred[20:60])\n",
        "print(y_test[20:60])"
      ],
      "metadata": {
        "colab": {
          "base_uri": "https://localhost:8080/"
        },
        "id": "GHbjAVT6hy_O",
        "outputId": "8a473291-917a-41a4-a384-f1704e83d187"
      },
      "execution_count": 34,
      "outputs": [
        {
          "output_type": "stream",
          "name": "stdout",
          "text": [
            "313/313 [==============================] - 1s 2ms/step\n",
            "[9 6 6 5 4 0 7 4 0 1 3 1 3 4 7 2 7 1 2 1 1 7 4 2 3 5 1 2 4 4 6 3 5 5 6 0 4\n",
            " 1 9 5]\n",
            "[9 6 6 5 4 0 7 4 0 1 3 1 3 4 7 2 7 1 2 1 1 7 4 2 3 5 1 2 4 4 6 3 5 5 6 0 4\n",
            " 1 9 5]\n"
          ]
        }
      ]
    },
    {
      "cell_type": "markdown",
      "source": [
        "Выделение неверных ответов"
      ],
      "metadata": {
        "id": "uvmH7kUYimn3"
      }
    },
    {
      "cell_type": "code",
      "source": [
        "#Переменная mask принимает значения, удовлетворяющие условию pred==y_test\n",
        "mask = pred == y_test\n",
        "print(mask)\n",
        "#Выделяем индексы, по которым mask содержит true и инверсируем, чтобы получить\n",
        "#индексы false\n",
        "x_false = x_test[~mask]\n",
        "p_false = pred[~mask]\n",
        "print(x_false)\n",
        "print(p_false)"
      ],
      "metadata": {
        "colab": {
          "base_uri": "https://localhost:8080/"
        },
        "id": "OCRPxQvGipT1",
        "outputId": "5bdda111-6b61-4309-d17c-394cffe10625"
      },
      "execution_count": 38,
      "outputs": [
        {
          "output_type": "stream",
          "name": "stdout",
          "text": [
            "[ True  True  True ...  True  True  True]\n",
            "[[[0. 0. 0. ... 0. 0. 0.]\n",
            "  [0. 0. 0. ... 0. 0. 0.]\n",
            "  [0. 0. 0. ... 0. 0. 0.]\n",
            "  ...\n",
            "  [0. 0. 0. ... 0. 0. 0.]\n",
            "  [0. 0. 0. ... 0. 0. 0.]\n",
            "  [0. 0. 0. ... 0. 0. 0.]]\n",
            "\n",
            " [[0. 0. 0. ... 0. 0. 0.]\n",
            "  [0. 0. 0. ... 0. 0. 0.]\n",
            "  [0. 0. 0. ... 0. 0. 0.]\n",
            "  ...\n",
            "  [0. 0. 0. ... 0. 0. 0.]\n",
            "  [0. 0. 0. ... 0. 0. 0.]\n",
            "  [0. 0. 0. ... 0. 0. 0.]]\n",
            "\n",
            " [[0. 0. 0. ... 0. 0. 0.]\n",
            "  [0. 0. 0. ... 0. 0. 0.]\n",
            "  [0. 0. 0. ... 0. 0. 0.]\n",
            "  ...\n",
            "  [0. 0. 0. ... 0. 0. 0.]\n",
            "  [0. 0. 0. ... 0. 0. 0.]\n",
            "  [0. 0. 0. ... 0. 0. 0.]]\n",
            "\n",
            " ...\n",
            "\n",
            " [[0. 0. 0. ... 0. 0. 0.]\n",
            "  [0. 0. 0. ... 0. 0. 0.]\n",
            "  [0. 0. 0. ... 0. 0. 0.]\n",
            "  ...\n",
            "  [0. 0. 0. ... 0. 0. 0.]\n",
            "  [0. 0. 0. ... 0. 0. 0.]\n",
            "  [0. 0. 0. ... 0. 0. 0.]]\n",
            "\n",
            " [[0. 0. 0. ... 0. 0. 0.]\n",
            "  [0. 0. 0. ... 0. 0. 0.]\n",
            "  [0. 0. 0. ... 0. 0. 0.]\n",
            "  ...\n",
            "  [0. 0. 0. ... 0. 0. 0.]\n",
            "  [0. 0. 0. ... 0. 0. 0.]\n",
            "  [0. 0. 0. ... 0. 0. 0.]]\n",
            "\n",
            " [[0. 0. 0. ... 0. 0. 0.]\n",
            "  [0. 0. 0. ... 0. 0. 0.]\n",
            "  [0. 0. 0. ... 0. 0. 0.]\n",
            "  ...\n",
            "  [0. 0. 0. ... 0. 0. 0.]\n",
            "  [0. 0. 0. ... 0. 0. 0.]\n",
            "  [0. 0. 0. ... 0. 0. 0.]]]\n",
            "[6 9 3 2 0 7 7 3 7 0 3 2 2 1 3 4 7 9 2 0 3 5 2 1 5 2 3 4 9 3 3 1 7 3 3 4 3\n",
            " 3 1 7 2 3 7 6 5 3 7 3 3 0 1 2 4 7 2 7 3 4 2 3 2 1 9 3 8 4 9 9 0 7 4 1 2 1\n",
            " 0 6 2 2 8 7 7 1 1 7 4 1 4 3 3 1 7 0 1 4 3 1 7 0 2 7 5 7 5 1 7 5 2 3 3 7 3\n",
            " 1 0 9 1 4 0 3 0 3 4 2 8 3 4 1 5 4 3 2 3 2 7 3 1 4 1 3 3 3 3 3 2 4 0 4 7 1\n",
            " 1 7 5 7 3 4 5 4 2 7 1 8 5 4 3 3 3 7 3 4 3 9 8 4 4 3 3 1 5 4 6 8 3 3 5 7 5\n",
            " 9 3 8 3 8 9 3 3 3 3 9 3 3 9 3 3 3 3 2 0 9 2 3 4 7 6 5 1 7 7 5 5 8 2 7 6 4\n",
            " 7 3 8 5 2 2 3 4 3 8 5 4 6 9 5 9 6 9 2 2 2 5 3 4 1 7 3 7 5 8 5 6 8 0 6 0 0\n",
            " 0 1 3 8 0 8]\n"
          ]
        }
      ]
    },
    {
      "cell_type": "markdown",
      "source": [
        "Вывод неверных изображений"
      ],
      "metadata": {
        "id": "etyDlOj_mq-P"
      }
    },
    {
      "cell_type": "code",
      "source": [
        "for i in range(5):\n",
        "  print(\"Значение сети: \" + str(p_false[i]))\n",
        "  plt.imshow(x_false[i], cmap=plt.cm.binary)\n",
        "  plt.show()"
      ],
      "metadata": {
        "colab": {
          "base_uri": "https://localhost:8080/",
          "height": 1000
        },
        "id": "RP-sD5sRmuu4",
        "outputId": "f1b203f8-74b9-49de-fd07-3c4b8d0b7253"
      },
      "execution_count": 37,
      "outputs": [
        {
          "output_type": "stream",
          "name": "stdout",
          "text": [
            "Значение сети: 6\n"
          ]
        },
        {
          "output_type": "display_data",
          "data": {
            "text/plain": [
              "<Figure size 640x480 with 1 Axes>"
            ],
            "image/png": "[encoded data removed]"
          },
          "metadata": {}
        },
        {
          "output_type": "stream",
          "name": "stdout",
          "text": [
            "Значение сети: 9\n"
          ]
        },
        {
          "output_type": "display_data",
          "data": {
            "text/plain": [
              "<Figure size 640x480 with 1 Axes>"
            ],
            "image/png": "[encoded data removed]"
          },
          "metadata": {}
        },
        {
          "output_type": "stream",
          "name": "stdout",
          "text": [
            "Значение сети: 3\n"
          ]
        },
        {
          "output_type": "display_data",
          "data": {
            "text/plain": [
              "<Figure size 640x480 with 1 Axes>"
            ],
            "image/png": "[encoded data removed]"
          },
          "metadata": {}
        },
        {
          "output_type": "stream",
          "name": "stdout",
          "text": [
            "Значение сети: 2\n"
          ]
        },
        {
          "output_type": "display_data",
          "data": {
            "text/plain": [
              "<Figure size 640x480 with 1 Axes>"
            ],
            "image/png": "[encoded data removed]"
          },
          "metadata": {}
        },
        {
          "output_type": "stream",
          "name": "stdout",
          "text": [
            "Значение сети: 0\n"
          ]
        },
        {
          "output_type": "display_data",
          "data": {
            "text/plain": [
              "<Figure size 640x480 with 1 Axes>"
            ],
            "image/png": "[encoded data removed]"
          },
          "metadata": {}
        }
      ]
    }
  ]
}